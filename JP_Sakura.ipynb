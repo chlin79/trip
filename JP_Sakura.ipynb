{
 "cells": [
  {
   "cell_type": "markdown",
   "metadata": {},
   "source": [
    "# 行程規劃"
   ]
  },
  {
   "cell_type": "markdown",
   "metadata": {},
   "source": [
    "---\n",
    "### Day1   3/27 Mon. \n",
    "\n",
    "06:50-11:25 ----  桃園機場-成田\n",
    "\n",
    "11:25-14:00 ----  成田-上野 (放行李) [交通方式](http://lazyjapan.com/regions/tokyo/transport/airport/narita/access.html#keisei)\n",
    "\n",
    "15:00-19:00 ---- 新宿御苑、明治神宮 （依時間斟酌前往表參道、新宿）\n",
    "\n",
    "19:00-21:00 ---- 六本木觀景\n",
    "\n",
    "### Day2   3/28 Tue. \n",
    "\n",
    "09:00-12:00 ---- [上野恩賜公園](http://kavanachang.pixnet.net/blog/post/109397489-「14櫻花大戰」東京賞櫻名所%3A櫻花百選-上野)、博物館、不忍池、上野東照宮、東京大學\n",
    "\n",
    "12:00-14:00 ---- 阿美橫町 (連結：[上野-阿美橫町](https://tw.bring-you.info/ame-yoko))\n",
    "\n",
    "14:00-18:00 ---- 淺草、[隅田川](http://hantianblog.com/archives/12391)、晴空塔\n",
    "\n",
    "18:00-21:00 ---- [千鳥淵](http://a14269357.pixnet.net/blog/post/196653225-【2015櫻之旅%E3%80%82東京】-千鳥ケ淵-~-東京賞櫻一)、靖國神社、皇居 \n",
    "\n",
    "### Day3   3/29 Wed.\n",
    "\n",
    "07:00-12:00 ---- 築地市場 (在前往機場之前若有時間可以就近到東京車站、銀座、日本橋等，或購買電腦）\n",
    "\n",
    "---"
   ]
  },
  {
   "cell_type": "markdown",
   "metadata": {},
   "source": [
    "## 六本木夜景\n",
    " * 時間：平日及休日 10:00〜23:00（最終入館22:30）\n",
    " * 交通：日比谷線 六本木駅1C; 大江戸線 六本木駅3 or 麻布十番駅7\n",
    " * 費用：觀景 ¥1200 憑學生證 ¥1000\n",
    " * 連結：[Harbs蛋糕](http://evalilycoco.blogspot.com/2016/04/HARBS.html)\n",
    " \n",
    "## 新宿\n",
    " * 交通： JR 新宿、 小田急新宿\n",
    " * 景點：多家百貨商場、[DonkiHote 激安的殿堂 (日本平價雜貨）](http://lohas.pixnet.net/blog/post/11030841)、BIC CAMERA+UNIQLO\n",
    " \n",
    "## 明治神宮\n",
    " * 交通：原宿駅\n",
    " * 時間：9:00 - 17:00\n",
    " * 景點：原宿車站木造建築、表參道、竹下通(年輕流行服飾)\n",
    " * 連結： [link1](http://blog.xuite.net/bobowin/me/58230832-%5B+日本東京自由行+%5D+Day3+part5+東京原宿~明治神宮), [link2](http://standinghere.pixnet.net/blog/post/41162041-東京│都心旁的森林公園,-慢遊明治神宮), [link3](http://rebecca1003.pixnet.net/blog/post/114571229-【東京原宿★景點】明治神宮散步去～-竹下)、[link4](https://tw.bring-you.info/meiji-jingu)"
   ]
  },
  {
   "cell_type": "markdown",
   "metadata": {},
   "source": [
    "---\n",
    "### 東京附錄\n",
    " * [地圖](https://www.google.com/maps/place/Tokyo,+Japan/@35.6777242,139.7151849,12z/data=!4m2!3m1!1s0x605d1b87f02e57e7:0x2e01618b22571b89)\n",
    " \n",
    " * [東京地鐵](http://www.tokyometro.jp/en/subwaymap/pdf/routemap_tcn.pdf)\n",
    " \n",
    "---\n",
    "### 地名整理\n",
    "\n",
    "- 上野  Ueno\n",
    "- 淺草  Asakusa\n",
    "- 六本木  Roppongi\n",
    "- 明治神宮  Meiji Jingu\n",
    "- 新宿  Shinjuku\n",
    "\n",
    "--- "
   ]
  }
 ],
 "metadata": {
  "kernelspec": {
   "display_name": "Python 2",
   "language": "python",
   "name": "python2"
  },
  "language_info": {
   "codemirror_mode": {
    "name": "ipython",
    "version": 2
   },
   "file_extension": ".py",
   "mimetype": "text/x-python",
   "name": "python",
   "nbconvert_exporter": "python",
   "pygments_lexer": "ipython2",
   "version": "2.7.10"
  }
 },
 "nbformat": 4,
 "nbformat_minor": 0
}
