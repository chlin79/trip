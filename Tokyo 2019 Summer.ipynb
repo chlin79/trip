{
 "cells": [
  {
   "cell_type": "markdown",
   "metadata": {},
   "source": [
    "# 箱根\n",
    "\n",
    "\n",
    "<img style=\"float: rigtht;margin:0 10px 10px 0\" src='https://c-lj.gnst.jp/public/article/detail/a/00/02/a0002260/img/basic/a0002260_main.jpg?20180717215451' width=\"600\">\n",
    "\n",
    "### 景點\n",
    "\n",
    "雕刻之森美術館\n",
    "登山纜車\n",
    "大湧谷\n",
    "蘆之湖\n",
    "箱根神社\n",
    "強羅車站\n",
    "\n",
    "https://www.odakyu.jp/tc/sightseeing/itineraries/hakone_highlights/\n",
    "\n",
    "<img style=\"float: rigtht;margin:0 10px 10px 0\" src='https://www.hakonenavi.jp/chinese/basics/trip/images/recommended_img.jpg' width=\"600\">\n",
    "\n",
    "### 遊記\n",
    "\n",
    "https://lazyjapan.com/regions/hakone/trips/main/\n",
    "\n",
    "https://tokyo.letsgojp.com/archives/296638/\n",
    "\n",
    "https://blog.kkday.com/17802/asia-japan-tokyo-hakone-guide"
   ]
  },
  {
   "cell_type": "markdown",
   "metadata": {},
   "source": [
    "# 輕井澤\n",
    "\n",
    "<img style=\"float: rigtht;margin:0 10px 10px 0\" src=\"https://pic.abbyblog.tw/images/1486108316-3831210605-770x420.jpg\" width=\"600\">\n",
    "\n",
    "### 景點\n",
    "\n",
    "腳踏車觀光\n",
    "舊輕井澤銀座\n",
    "雲場池\n",
    "白絲瀑布\n",
    "聖保羅天主教教堂\n",
    "輕井澤王子購物廣場\n",
    "\n",
    "### 遊記\n",
    "\n",
    "https://lazyjapan.com/regions/karuizawa/trips/main/\n",
    "\n",
    "https://tokyo.letsgojp.com/archives/89145/\n",
    "\n",
    "https://matcha-jp.com/tw/3735\n",
    "\n",
    "https://boo2k.com/archives/67604"
   ]
  },
  {
   "cell_type": "markdown",
   "metadata": {},
   "source": [
    "# 河口湖\n",
    "\n",
    "<img style=\"float: rigtht;margin:0 10px 10px 0\" src=\"https://image.cache.storm.mg/styles/smg-800x533-fp/s3/media/image/2018/03/07/20180307-103804_U10834_M387737_a495.jpg?itok=cehk5Sr3\" width=\"600\">\n",
    "\n",
    "### 景點\n",
    "\n",
    "河口湖纜車\n",
    "河口湖天上山公園\n",
    "河口湖自然生活館\n",
    "富士山觀景\n",
    "\n",
    "### 遊記\n",
    "\n",
    "https://lazyjapan.com/regions/kawaguchiko/trips/main/\n",
    "\n",
    "https://matcha-jp.com/tw/6208\n",
    "\n",
    "https://tokyo.letsgojp.com/archives/94425/"
   ]
  },
  {
   "cell_type": "markdown",
   "metadata": {},
   "source": [
    "# 日光\n",
    "\n",
    "<img  style=\"float: rigtht;margin:0 10px 10px 0\" src=\"https://res.klook.com/images/fl_lossy.progressive,q_65/c_fill,w_1920,h_720,f_auto/w_80,x_15,y_15,g_south_west,l_klook_water/activities/cnp1qqj1ojlglbm7six9/日光東照宮華嚴瀑布一日遊.jpg\" width=\"800\">\n",
    "\n",
    "### 景點\n",
    "\n",
    "東照宮\n",
    "輪王寺\n",
    "二荒山神社\n",
    "華嚴瀑布\n",
    "鬼怒川\n",
    "中禪寺湖\n",
    "\n",
    "\n",
    "### 遊記\n",
    "\n",
    "https://lazyjapan.com/regions/nikko/trips/main/\n",
    "\n",
    "https://www.tsunagujapan.com/zh-hant/13-must-visit-spots-in-nikko/\n",
    "\n",
    "https://zh.compathy.net/magazine/2018/10/22/nikko_sightseeing/"
   ]
  },
  {
   "cell_type": "markdown",
   "metadata": {},
   "source": [
    "# 鎌倉、江之島\n",
    "\n",
    "<img  style=\"float: rigtht;margin:0 10px 10px 0\" src=\"https://cdn01.dcfever.com/media/blog/files/746/746877/2017/02/746877_1487949231157.jpg?t=c41438a2c68a2b4401951a07f12bde75%22\" width=\"600\">\n",
    "\n",
    "### 景點\n",
    "\n",
    "鶴岡八幡宮\n",
    "江之島\n",
    "鎌倉大佛\n",
    "江之電\n",
    "鎌倉市區\n",
    "\n",
    "### 遊記\n",
    "\n",
    "https://lazyjapan.com/regions/kamakura/trips/main/\n",
    "\n",
    "https://hiromishi.com/2017/08/kamakura.html\n",
    "\n",
    "https://blog.kkday.com/22358/asia-japan-tokyo-kamakura-enoshima-guide\n",
    "\n",
    "https://tw.bring-you.info/kamakura-hot-spot"
   ]
  }
 ],
 "metadata": {
  "kernelspec": {
   "display_name": "Python 3",
   "language": "python",
   "name": "python3"
  },
  "language_info": {
   "codemirror_mode": {
    "name": "ipython",
    "version": 3
   },
   "file_extension": ".py",
   "mimetype": "text/x-python",
   "name": "python",
   "nbconvert_exporter": "python",
   "pygments_lexer": "ipython3",
   "version": "3.7.1"
  },
  "toc": {
   "colors": {
    "hover_highlight": "#DAA520",
    "running_highlight": "#FF0000",
    "selected_highlight": "#FFD700"
   },
   "moveMenuLeft": true,
   "nav_menu": {
    "height": "277.0588073730469px",
    "width": "252.35293579101562px"
   },
   "navigate_menu": true,
   "number_sections": true,
   "sideBar": true,
   "threshold": 4,
   "toc_cell": false,
   "toc_section_display": "block",
   "toc_window_display": false,
   "widenNotebook": false
  }
 },
 "nbformat": 4,
 "nbformat_minor": 2
}
